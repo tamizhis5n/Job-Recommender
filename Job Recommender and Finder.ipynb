{
 "cells": [
  {
   "cell_type": "code",
   "execution_count": 16,
   "metadata": {},
   "outputs": [],
   "source": [
    "from sklearn.feature_extraction.text import TfidfVectorizer\n",
    "from sklearn.metrics.pairwise import cosine_similarity\n",
    "import pandas as pd\n"
   ]
  },
  {
   "cell_type": "code",
   "execution_count": 3,
   "metadata": {},
   "outputs": [
    {
     "data": {
      "text/html": [
       "<div>\n",
       "<style scoped>\n",
       "    .dataframe tbody tr th:only-of-type {\n",
       "        vertical-align: middle;\n",
       "    }\n",
       "\n",
       "    .dataframe tbody tr th {\n",
       "        vertical-align: top;\n",
       "    }\n",
       "\n",
       "    .dataframe thead th {\n",
       "        text-align: right;\n",
       "    }\n",
       "</style>\n",
       "<table border=\"1\" class=\"dataframe\">\n",
       "  <thead>\n",
       "    <tr style=\"text-align: right;\">\n",
       "      <th></th>\n",
       "      <th>job</th>\n",
       "      <th>skill</th>\n",
       "    </tr>\n",
       "  </thead>\n",
       "  <tbody>\n",
       "    <tr>\n",
       "      <td>0</td>\n",
       "      <td>Vb.Net Developer</td>\n",
       "      <td>.NET Programming SQL SQL Server Microsoft C# A...</td>\n",
       "    </tr>\n",
       "    <tr>\n",
       "      <td>1</td>\n",
       "      <td>.NET Developer / Engineer</td>\n",
       "      <td>.NET Programming Microsoft C# SQL ASP JavaScri...</td>\n",
       "    </tr>\n",
       "    <tr>\n",
       "      <td>2</td>\n",
       "      <td>Academic / Guidance Counselor</td>\n",
       "      <td>Communication Skills Academic Advisement Writi...</td>\n",
       "    </tr>\n",
       "    <tr>\n",
       "      <td>3</td>\n",
       "      <td>Account Executive</td>\n",
       "      <td>Sales Communication Skills Building Effective ...</td>\n",
       "    </tr>\n",
       "    <tr>\n",
       "      <td>4</td>\n",
       "      <td>Account Manager / Representative</td>\n",
       "      <td>Communication Skills Sales Customer Service Bu...</td>\n",
       "    </tr>\n",
       "  </tbody>\n",
       "</table>\n",
       "</div>"
      ],
      "text/plain": [
       "                                 job  \\\n",
       "0                   Vb.Net Developer   \n",
       "1          .NET Developer / Engineer   \n",
       "2     Academic / Guidance Counselor    \n",
       "3                 Account Executive    \n",
       "4  Account Manager / Representative    \n",
       "\n",
       "                                               skill  \n",
       "0  .NET Programming SQL SQL Server Microsoft C# A...  \n",
       "1  .NET Programming Microsoft C# SQL ASP JavaScri...  \n",
       "2  Communication Skills Academic Advisement Writi...  \n",
       "3  Sales Communication Skills Building Effective ...  \n",
       "4  Communication Skills Sales Customer Service Bu...  "
      ]
     },
     "execution_count": 3,
     "metadata": {},
     "output_type": "execute_result"
    }
   ],
   "source": [
    "df=pd.read_csv('Skill_Map.csv')\n",
    "df.columns = ['job', 'skill']\n",
    "df.head()"
   ]
  },
  {
   "cell_type": "code",
   "execution_count": 5,
   "metadata": {},
   "outputs": [
    {
     "data": {
      "text/plain": [
       "900"
      ]
     },
     "execution_count": 5,
     "metadata": {},
     "output_type": "execute_result"
    }
   ],
   "source": [
    "len(df) ###  900 Jobs"
   ]
  },
  {
   "cell_type": "code",
   "execution_count": 22,
   "metadata": {},
   "outputs": [
    {
     "name": "stdout",
     "output_type": "stream",
     "text": [
      "Explain your skillset:\n",
      "Manufacturing Machine Operator\n"
     ]
    }
   ],
   "source": [
    "s=input(\"Explain your skillset:\\n\")"
   ]
  },
  {
   "cell_type": "code",
   "execution_count": 23,
   "metadata": {},
   "outputs": [],
   "source": [
    "all_skills = df['skill'].values\n",
    "all_jobs=df['job'].unique().tolist()"
   ]
  },
  {
   "cell_type": "code",
   "execution_count": 24,
   "metadata": {},
   "outputs": [],
   "source": [
    "def find_related_jobs(s):\n",
    "    doc = s\n",
    "    skill_match_score = []\n",
    "    dictionary_list = []\n",
    "#Vectorizing the data and finding Cosine Similarity\n",
    "    for j in range(len(all_skills)):\n",
    "        final_score = 0\n",
    "        tfidf_vectorizer = TfidfVectorizer(ngram_range = (1,3))\n",
    "        train_set = [doc , all_skills[j]]\n",
    "        tfidf_train = tfidf_vectorizer.fit_transform(train_set)\n",
    "        score = cosine_similarity(tfidf_train[0:1],tfidf_train)\n",
    "        skill_match_score.append(\"%.2f\" % score[0][1])\n",
    "    dictionary = dict(zip(all_jobs, skill_match_score))\n",
    "    dictionary_sorted_by_value = sorted(dictionary.items(), key=lambda kv: kv[1], reverse = True)\n",
    "# Top 5 recommended jobs are stored\n",
    "    for k in range(5):\n",
    "        dictionary_list.append(dictionary_sorted_by_value[k])\n",
    "#most recommended is returned\n",
    "    return (dictionary_list[0][0])"
   ]
  },
  {
   "cell_type": "code",
   "execution_count": 25,
   "metadata": {},
   "outputs": [
    {
     "data": {
      "text/plain": [
       "'Manufacturing Engineer'"
      ]
     },
     "execution_count": 25,
     "metadata": {},
     "output_type": "execute_result"
    }
   ],
   "source": [
    "find_related_jobs(s)\n"
   ]
  },
  {
   "cell_type": "code",
   "execution_count": null,
   "metadata": {},
   "outputs": [],
   "source": []
  }
 ],
 "metadata": {
  "kernelspec": {
   "display_name": "Python 3",
   "language": "python",
   "name": "python3"
  },
  "language_info": {
   "codemirror_mode": {
    "name": "ipython",
    "version": 3
   },
   "file_extension": ".py",
   "mimetype": "text/x-python",
   "name": "python",
   "nbconvert_exporter": "python",
   "pygments_lexer": "ipython3",
   "version": "3.7.4"
  }
 },
 "nbformat": 4,
 "nbformat_minor": 2
}
